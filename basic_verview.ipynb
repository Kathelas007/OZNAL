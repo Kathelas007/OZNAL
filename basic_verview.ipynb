{
 "cells": [
  {
   "cell_type": "markdown",
   "metadata": {
    "collapsed": true,
    "pycharm": {
     "name": "#%% md\n"
    }
   },
   "source": [
    "# BASIC"
   ]
  },
  {
   "cell_type": "code",
   "execution_count": 2,
   "metadata": {
    "pycharm": {
     "is_executing": true
    }
   },
   "outputs": [],
   "source": [
    "import os\n",
    "import math\n",
    "import numpy as np\n",
    "import pandas as pd\n",
    "import seaborn as sns\n",
    "import matplotlib.pyplot as plt\n",
    "\n",
    "import data_loader as dl"
   ]
  },
  {
   "cell_type": "code",
   "execution_count": 3,
   "metadata": {},
   "outputs": [
    {
     "name": "stdout",
     "output_type": "stream",
     "text": [
      "Celkem 99332 Na den 272.14246575342463\n"
     ]
    }
   ],
   "source": [
    "df = dl.load_data(2021,2021)\n",
    "print(\"Celkem\", len(df), \"Na den\", len(df)/365)"
   ]
  },
  {
   "cell_type": "code",
   "execution_count": 27,
   "metadata": {},
   "outputs": [
    {
     "name": "stdout",
     "output_type": "stream",
     "text": [
      "usmrceno 0.00444972415737124\n",
      "tezce zraneno 0.014990134095759675\n",
      "lehce zraneno 0.1684351467804937\n"
     ]
    }
   ],
   "source": [
    "# 'usmrceno', 'tezce zraneno', 'lehce zraneno'\n",
    "df['date'] = pd.to_datetime(df['date'])\n",
    "df['datetime'] = df['date'] + df['time']\n",
    "df['month'] = df['datetime'].dt.month\n",
    "\n",
    "for n in ['usmrceno', 'tezce zraneno', 'lehce zraneno', ]:\n",
    "    print(n, (df[n] != 0).sum() / len(df))"
   ]
  },
  {
   "cell_type": "code",
   "execution_count": 21,
   "metadata": {},
   "outputs": [
    {
     "data": {
      "text/html": [
       "<div>\n",
       "<style scoped>\n",
       "    .dataframe tbody tr th:only-of-type {\n",
       "        vertical-align: middle;\n",
       "    }\n",
       "\n",
       "    .dataframe tbody tr th {\n",
       "        vertical-align: top;\n",
       "    }\n",
       "\n",
       "    .dataframe thead th {\n",
       "        text-align: right;\n",
       "    }\n",
       "</style>\n",
       "<table border=\"1\" class=\"dataframe\">\n",
       "  <thead>\n",
       "    <tr style=\"text-align: right;\">\n",
       "      <th></th>\n",
       "      <th>usmrceno</th>\n",
       "      <th>tezce zraneno</th>\n",
       "      <th>lehce zraneno</th>\n",
       "    </tr>\n",
       "    <tr>\n",
       "      <th>month</th>\n",
       "      <th></th>\n",
       "      <th></th>\n",
       "      <th></th>\n",
       "    </tr>\n",
       "  </thead>\n",
       "  <tbody>\n",
       "    <tr>\n",
       "      <th>1.0</th>\n",
       "      <td>21</td>\n",
       "      <td>70</td>\n",
       "      <td>1162</td>\n",
       "    </tr>\n",
       "    <tr>\n",
       "      <th>2.0</th>\n",
       "      <td>30</td>\n",
       "      <td>72</td>\n",
       "      <td>1031</td>\n",
       "    </tr>\n",
       "    <tr>\n",
       "      <th>3.0</th>\n",
       "      <td>29</td>\n",
       "      <td>76</td>\n",
       "      <td>964</td>\n",
       "    </tr>\n",
       "    <tr>\n",
       "      <th>4.0</th>\n",
       "      <td>22</td>\n",
       "      <td>92</td>\n",
       "      <td>1192</td>\n",
       "    </tr>\n",
       "    <tr>\n",
       "      <th>5.0</th>\n",
       "      <td>44</td>\n",
       "      <td>175</td>\n",
       "      <td>1729</td>\n",
       "    </tr>\n",
       "    <tr>\n",
       "      <th>6.0</th>\n",
       "      <td>43</td>\n",
       "      <td>197</td>\n",
       "      <td>2467</td>\n",
       "    </tr>\n",
       "    <tr>\n",
       "      <th>7.0</th>\n",
       "      <td>41</td>\n",
       "      <td>204</td>\n",
       "      <td>2303</td>\n",
       "    </tr>\n",
       "    <tr>\n",
       "      <th>8.0</th>\n",
       "      <td>53</td>\n",
       "      <td>175</td>\n",
       "      <td>2281</td>\n",
       "    </tr>\n",
       "    <tr>\n",
       "      <th>9.0</th>\n",
       "      <td>38</td>\n",
       "      <td>191</td>\n",
       "      <td>2147</td>\n",
       "    </tr>\n",
       "    <tr>\n",
       "      <th>10.0</th>\n",
       "      <td>40</td>\n",
       "      <td>143</td>\n",
       "      <td>1967</td>\n",
       "    </tr>\n",
       "    <tr>\n",
       "      <th>11.0</th>\n",
       "      <td>39</td>\n",
       "      <td>106</td>\n",
       "      <td>1481</td>\n",
       "    </tr>\n",
       "    <tr>\n",
       "      <th>12.0</th>\n",
       "      <td>48</td>\n",
       "      <td>91</td>\n",
       "      <td>1598</td>\n",
       "    </tr>\n",
       "  </tbody>\n",
       "</table>\n",
       "</div>"
      ],
      "text/plain": [
       "       usmrceno  tezce zraneno  lehce zraneno\n",
       "month                                        \n",
       "1.0          21             70           1162\n",
       "2.0          30             72           1031\n",
       "3.0          29             76            964\n",
       "4.0          22             92           1192\n",
       "5.0          44            175           1729\n",
       "6.0          43            197           2467\n",
       "7.0          41            204           2303\n",
       "8.0          53            175           2281\n",
       "9.0          38            191           2147\n",
       "10.0         40            143           1967\n",
       "11.0         39            106           1481\n",
       "12.0         48             91           1598"
      ]
     },
     "execution_count": 21,
     "metadata": {},
     "output_type": "execute_result"
    }
   ],
   "source": [
    "df.groupby('month')[['usmrceno', 'tezce zraneno', 'lehce zraneno', ]].sum()"
   ]
  },
  {
   "cell_type": "code",
   "execution_count": 24,
   "metadata": {},
   "outputs": [
    {
     "name": "stdout",
     "output_type": "stream",
     "text": [
      "0.8172190230741352\n"
     ]
    },
    {
     "data": {
      "text/plain": [
       "month\n",
       "1.0     5112\n",
       "2.0     4844\n",
       "3.0     4213\n",
       "4.0     4917\n",
       "5.0     6016\n",
       "6.0     5988\n",
       "7.0     5432\n",
       "8.0     5683\n",
       "9.0     5600\n",
       "10.0    6419\n",
       "11.0    6017\n",
       "12.0    5909\n",
       "Name: jen skoda, dtype: int64"
      ]
     },
     "execution_count": 24,
     "metadata": {},
     "output_type": "execute_result"
    }
   ],
   "source": [
    "df['jen skoda'] = df['charakter nehody'] == 2\n",
    "print(df['jen skoda'].sum() / len(df))\n",
    "df.groupby('month')['jen skoda'].sum()"
   ]
  },
  {
   "cell_type": "code",
   "execution_count": 28,
   "metadata": {},
   "outputs": [
    {
     "data": {
      "text/plain": [
       "6364"
      ]
     },
     "execution_count": 28,
     "metadata": {},
     "output_type": "execute_result"
    }
   ],
   "source": [
    "len(df[df['reg'] == 'JHM'])"
   ]
  },
  {
   "cell_type": "code",
   "execution_count": 31,
   "metadata": {},
   "outputs": [
    {
     "name": "stdout",
     "output_type": "stream",
     "text": [
      "pomer zver  0.1508979986308541\n",
      "337.55056779285627 355.709120021349\n"
     ]
    }
   ],
   "source": [
    "df['zver'] = df['druh nehody'] == 5 \n",
    "zver = df[df['zver'] == True]\n",
    "print(\"pomer zver \", len(zver) / len(df))\n"
   ]
  },
  {
   "cell_type": "code",
   "execution_count": 32,
   "metadata": {},
   "outputs": [
    {
     "name": "stdout",
     "output_type": "stream",
     "text": [
      "337.55056779285627 355.709120021349\n"
     ]
    }
   ],
   "source": [
    "print(df['skoda na vozidle'].mean(), zver['skoda na vozidle'].mean())"
   ]
  },
  {
   "cell_type": "code",
   "execution_count": 36,
   "metadata": {},
   "outputs": [
    {
     "name": "stdout",
     "output_type": "stream",
     "text": [
      "tezce zraneno 0.01634921274111062 0.00040029354860230835\n",
      "lehce zraneno 0.20719405629605767 0.0063379811862032155\n",
      "usmrceno 0.0047316071356662505 6.671559143371805e-05\n"
     ]
    }
   ],
   "source": [
    "for n in ['tezce zraneno', 'lehce zraneno', 'usmrceno',]:\n",
    "    print(n, df[n].mean(), zver[n].mean())"
   ]
  }
 ],
 "metadata": {
  "kernelspec": {
   "display_name": "oznal_conda",
   "language": "python",
   "name": "oznal_conda"
  },
  "language_info": {
   "codemirror_mode": {
    "name": "ipython",
    "version": 3
   },
   "file_extension": ".py",
   "mimetype": "text/x-python",
   "name": "python",
   "nbconvert_exporter": "python",
   "pygments_lexer": "ipython3",
   "version": "3.9.7"
  }
 },
 "nbformat": 4,
 "nbformat_minor": 1
}
